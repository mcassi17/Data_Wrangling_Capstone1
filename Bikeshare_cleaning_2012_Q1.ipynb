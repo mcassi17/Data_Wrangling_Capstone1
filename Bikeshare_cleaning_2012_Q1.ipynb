{
 "cells": [
  {
   "cell_type": "code",
   "execution_count": 56,
   "metadata": {
    "collapsed": true
   },
   "outputs": [],
   "source": [
    "import pandas as pd\n",
    "import numpy as np\n",
    "import matplotlib.pyplot as plt\n",
    "from datetime import datetime \n",
    "%matplotlib inline"
   ]
  },
  {
   "cell_type": "code",
   "execution_count": 57,
   "metadata": {},
   "outputs": [
    {
     "data": {
      "text/html": [
       "<div>\n",
       "<style>\n",
       "    .dataframe thead tr:only-child th {\n",
       "        text-align: right;\n",
       "    }\n",
       "\n",
       "    .dataframe thead th {\n",
       "        text-align: left;\n",
       "    }\n",
       "\n",
       "    .dataframe tbody tr th {\n",
       "        vertical-align: top;\n",
       "    }\n",
       "</style>\n",
       "<table border=\"1\" class=\"dataframe\">\n",
       "  <thead>\n",
       "    <tr style=\"text-align: right;\">\n",
       "      <th></th>\n",
       "      <th>instant</th>\n",
       "      <th>dteday</th>\n",
       "      <th>season</th>\n",
       "      <th>yr</th>\n",
       "      <th>mnth</th>\n",
       "      <th>holiday</th>\n",
       "      <th>weekday</th>\n",
       "      <th>workingday</th>\n",
       "      <th>weathersit</th>\n",
       "      <th>temp</th>\n",
       "      <th>atemp</th>\n",
       "      <th>hum</th>\n",
       "      <th>windspeed</th>\n",
       "      <th>casual</th>\n",
       "      <th>registered</th>\n",
       "      <th>cnt</th>\n",
       "    </tr>\n",
       "  </thead>\n",
       "  <tbody>\n",
       "    <tr>\n",
       "      <th>0</th>\n",
       "      <td>1</td>\n",
       "      <td>2011-01-01</td>\n",
       "      <td>1</td>\n",
       "      <td>0</td>\n",
       "      <td>1</td>\n",
       "      <td>0</td>\n",
       "      <td>6</td>\n",
       "      <td>0</td>\n",
       "      <td>2</td>\n",
       "      <td>0.344167</td>\n",
       "      <td>0.363625</td>\n",
       "      <td>0.805833</td>\n",
       "      <td>0.160446</td>\n",
       "      <td>331</td>\n",
       "      <td>654</td>\n",
       "      <td>985</td>\n",
       "    </tr>\n",
       "    <tr>\n",
       "      <th>1</th>\n",
       "      <td>2</td>\n",
       "      <td>2011-01-02</td>\n",
       "      <td>1</td>\n",
       "      <td>0</td>\n",
       "      <td>1</td>\n",
       "      <td>0</td>\n",
       "      <td>0</td>\n",
       "      <td>0</td>\n",
       "      <td>2</td>\n",
       "      <td>0.363478</td>\n",
       "      <td>0.353739</td>\n",
       "      <td>0.696087</td>\n",
       "      <td>0.248539</td>\n",
       "      <td>131</td>\n",
       "      <td>670</td>\n",
       "      <td>801</td>\n",
       "    </tr>\n",
       "    <tr>\n",
       "      <th>2</th>\n",
       "      <td>3</td>\n",
       "      <td>2011-01-03</td>\n",
       "      <td>1</td>\n",
       "      <td>0</td>\n",
       "      <td>1</td>\n",
       "      <td>0</td>\n",
       "      <td>1</td>\n",
       "      <td>1</td>\n",
       "      <td>1</td>\n",
       "      <td>0.196364</td>\n",
       "      <td>0.189405</td>\n",
       "      <td>0.437273</td>\n",
       "      <td>0.248309</td>\n",
       "      <td>120</td>\n",
       "      <td>1229</td>\n",
       "      <td>1349</td>\n",
       "    </tr>\n",
       "    <tr>\n",
       "      <th>3</th>\n",
       "      <td>4</td>\n",
       "      <td>2011-01-04</td>\n",
       "      <td>1</td>\n",
       "      <td>0</td>\n",
       "      <td>1</td>\n",
       "      <td>0</td>\n",
       "      <td>2</td>\n",
       "      <td>1</td>\n",
       "      <td>1</td>\n",
       "      <td>0.200000</td>\n",
       "      <td>0.212122</td>\n",
       "      <td>0.590435</td>\n",
       "      <td>0.160296</td>\n",
       "      <td>108</td>\n",
       "      <td>1454</td>\n",
       "      <td>1562</td>\n",
       "    </tr>\n",
       "    <tr>\n",
       "      <th>4</th>\n",
       "      <td>5</td>\n",
       "      <td>2011-01-05</td>\n",
       "      <td>1</td>\n",
       "      <td>0</td>\n",
       "      <td>1</td>\n",
       "      <td>0</td>\n",
       "      <td>3</td>\n",
       "      <td>1</td>\n",
       "      <td>1</td>\n",
       "      <td>0.226957</td>\n",
       "      <td>0.229270</td>\n",
       "      <td>0.436957</td>\n",
       "      <td>0.186900</td>\n",
       "      <td>82</td>\n",
       "      <td>1518</td>\n",
       "      <td>1600</td>\n",
       "    </tr>\n",
       "  </tbody>\n",
       "</table>\n",
       "</div>"
      ],
      "text/plain": [
       "   instant     dteday  season  yr  mnth  holiday  weekday  workingday  \\\n",
       "0        1 2011-01-01       1   0     1        0        6           0   \n",
       "1        2 2011-01-02       1   0     1        0        0           0   \n",
       "2        3 2011-01-03       1   0     1        0        1           1   \n",
       "3        4 2011-01-04       1   0     1        0        2           1   \n",
       "4        5 2011-01-05       1   0     1        0        3           1   \n",
       "\n",
       "   weathersit      temp     atemp       hum  windspeed  casual  registered  \\\n",
       "0           2  0.344167  0.363625  0.805833   0.160446     331         654   \n",
       "1           2  0.363478  0.353739  0.696087   0.248539     131         670   \n",
       "2           1  0.196364  0.189405  0.437273   0.248309     120        1229   \n",
       "3           1  0.200000  0.212122  0.590435   0.160296     108        1454   \n",
       "4           1  0.226957  0.229270  0.436957   0.186900      82        1518   \n",
       "\n",
       "    cnt  \n",
       "0   985  \n",
       "1   801  \n",
       "2  1349  \n",
       "3  1562  \n",
       "4  1600  "
      ]
     },
     "execution_count": 57,
     "metadata": {},
     "output_type": "execute_result"
    }
   ],
   "source": [
    "weather = pd.read_csv('day.csv', parse_dates=['dteday'])\n",
    "weather.head()"
   ]
  },
  {
   "cell_type": "code",
   "execution_count": 58,
   "metadata": {},
   "outputs": [
    {
     "data": {
      "text/html": [
       "<div>\n",
       "<style>\n",
       "    .dataframe thead tr:only-child th {\n",
       "        text-align: right;\n",
       "    }\n",
       "\n",
       "    .dataframe thead th {\n",
       "        text-align: left;\n",
       "    }\n",
       "\n",
       "    .dataframe tbody tr th {\n",
       "        vertical-align: top;\n",
       "    }\n",
       "</style>\n",
       "<table border=\"1\" class=\"dataframe\">\n",
       "  <thead>\n",
       "    <tr style=\"text-align: right;\">\n",
       "      <th></th>\n",
       "      <th>Duration</th>\n",
       "      <th>Start date</th>\n",
       "      <th>End date</th>\n",
       "      <th>Start Station</th>\n",
       "      <th>End Station</th>\n",
       "      <th>Bike#</th>\n",
       "      <th>Type</th>\n",
       "    </tr>\n",
       "  </thead>\n",
       "  <tbody>\n",
       "    <tr>\n",
       "      <th>0</th>\n",
       "      <td>0h 7m 55sec.</td>\n",
       "      <td>2012-01-01 00:04:00</td>\n",
       "      <td>2012-01-01 00:11:00</td>\n",
       "      <td>7th &amp; R St NW / Shaw Library</td>\n",
       "      <td>7th &amp; T St NW</td>\n",
       "      <td>W01412</td>\n",
       "      <td>Registered</td>\n",
       "    </tr>\n",
       "    <tr>\n",
       "      <th>1</th>\n",
       "      <td>0h 19m 22sec.</td>\n",
       "      <td>2012-01-01 00:10:00</td>\n",
       "      <td>2012-01-01 00:29:00</td>\n",
       "      <td>Georgia &amp; New Hampshire Ave NW</td>\n",
       "      <td>16th &amp; Harvard St NW</td>\n",
       "      <td>W00524</td>\n",
       "      <td>Casual</td>\n",
       "    </tr>\n",
       "    <tr>\n",
       "      <th>2</th>\n",
       "      <td>0h 19m 5sec.</td>\n",
       "      <td>2012-01-01 00:10:00</td>\n",
       "      <td>2012-01-01 00:29:00</td>\n",
       "      <td>Georgia &amp; New Hampshire Ave NW</td>\n",
       "      <td>16th &amp; Harvard St NW</td>\n",
       "      <td>W00235</td>\n",
       "      <td>Registered</td>\n",
       "    </tr>\n",
       "    <tr>\n",
       "      <th>3</th>\n",
       "      <td>0h 8m 5sec.</td>\n",
       "      <td>2012-01-01 00:15:00</td>\n",
       "      <td>2012-01-01 00:23:00</td>\n",
       "      <td>14th &amp; V St NW</td>\n",
       "      <td>Park Rd &amp; Holmead Pl NW</td>\n",
       "      <td>W00864</td>\n",
       "      <td>Registered</td>\n",
       "    </tr>\n",
       "    <tr>\n",
       "      <th>4</th>\n",
       "      <td>0h 7m 51sec.</td>\n",
       "      <td>2012-01-01 00:15:00</td>\n",
       "      <td>2012-01-01 00:23:00</td>\n",
       "      <td>11th &amp; Kenyon St NW</td>\n",
       "      <td>7th &amp; T St NW</td>\n",
       "      <td>W00995</td>\n",
       "      <td>Registered</td>\n",
       "    </tr>\n",
       "  </tbody>\n",
       "</table>\n",
       "</div>"
      ],
      "text/plain": [
       "        Duration          Start date            End date  \\\n",
       "0   0h 7m 55sec. 2012-01-01 00:04:00 2012-01-01 00:11:00   \n",
       "1  0h 19m 22sec. 2012-01-01 00:10:00 2012-01-01 00:29:00   \n",
       "2   0h 19m 5sec. 2012-01-01 00:10:00 2012-01-01 00:29:00   \n",
       "3    0h 8m 5sec. 2012-01-01 00:15:00 2012-01-01 00:23:00   \n",
       "4   0h 7m 51sec. 2012-01-01 00:15:00 2012-01-01 00:23:00   \n",
       "\n",
       "                    Start Station              End Station   Bike#        Type  \n",
       "0    7th & R St NW / Shaw Library            7th & T St NW  W01412  Registered  \n",
       "1  Georgia & New Hampshire Ave NW     16th & Harvard St NW  W00524      Casual  \n",
       "2  Georgia & New Hampshire Ave NW     16th & Harvard St NW  W00235  Registered  \n",
       "3                  14th & V St NW  Park Rd & Holmead Pl NW  W00864  Registered  \n",
       "4             11th & Kenyon St NW            7th & T St NW  W00995  Registered  "
      ]
     },
     "execution_count": 58,
     "metadata": {},
     "output_type": "execute_result"
    }
   ],
   "source": [
    "bike_share = pd.read_csv('2012-Q1-cabi-trip-history-data.csv', parse_dates=['Start date', 'End date'])\n",
    "bike_share.head()"
   ]
  },
  {
   "cell_type": "code",
   "execution_count": 59,
   "metadata": {
    "collapsed": true
   },
   "outputs": [],
   "source": [
    "bike_share.drop('Bike#', 1, inplace=True)"
   ]
  },
  {
   "cell_type": "code",
   "execution_count": 60,
   "metadata": {
    "collapsed": true
   },
   "outputs": [],
   "source": [
    "bike_share['start_date_short'] = pd.to_datetime(bike_share['Start date'].dt.strftime('%Y-%m-%d'))"
   ]
  },
  {
   "cell_type": "code",
   "execution_count": 61,
   "metadata": {
    "collapsed": true
   },
   "outputs": [],
   "source": [
    "bike_share['end_date_short'] = pd.to_datetime(bike_share['End date'].dt.strftime('%Y-%m-%d'))"
   ]
  },
  {
   "cell_type": "code",
   "execution_count": 62,
   "metadata": {
    "collapsed": true
   },
   "outputs": [],
   "source": [
    "bike_share[['Hours', 'Minutes']] = bike_share['Duration'].str.split(' ', 1, expand=True)\n",
    "bike_share[['Minutes', 'Seconds']] = bike_share['Minutes'].str.split(' ', 1, expand=True)\n",
    "bike_share['Hours'] = bike_share['Hours'].str.replace('h', '')\n",
    "bike_share['Minutes'] = bike_share['Minutes'].str.replace('m', '')\n",
    "bike_share['Seconds'] = bike_share['Seconds'].str.replace('sec.', '')\n",
    "bike_share['Hours'] = bike_share['Hours'].astype(int)\n",
    "bike_share['Minutes'] = bike_share['Minutes'].astype(int)\n",
    "bike_share['Seconds'] = bike_share['Seconds'].astype(int)\n",
    "bike_share['time_diff'] = 60 * bike_share['Hours'] + bike_share['Minutes'] + np.round(bike_share['Seconds']/60, 3)"
   ]
  },
  {
   "cell_type": "code",
   "execution_count": 63,
   "metadata": {
    "collapsed": true
   },
   "outputs": [],
   "source": [
    "bike_share.drop('Hours', 1, inplace=True)\n",
    "bike_share.drop('Minutes', 1, inplace=True)\n",
    "bike_share.drop('Seconds', 1, inplace=True)"
   ]
  },
  {
   "cell_type": "code",
   "execution_count": 64,
   "metadata": {},
   "outputs": [
    {
     "name": "stdout",
     "output_type": "stream",
     "text": [
      "<class 'pandas.core.frame.DataFrame'>\n",
      "RangeIndex: 364223 entries, 0 to 364222\n",
      "Data columns (total 9 columns):\n",
      "Duration            364223 non-null object\n",
      "Start date          364223 non-null datetime64[ns]\n",
      "End date            364223 non-null datetime64[ns]\n",
      "Start Station       364223 non-null object\n",
      "End Station         364223 non-null object\n",
      "Type                364223 non-null object\n",
      "start_date_short    364223 non-null datetime64[ns]\n",
      "end_date_short      364223 non-null datetime64[ns]\n",
      "time_diff           364223 non-null float64\n",
      "dtypes: datetime64[ns](4), float64(1), object(4)\n",
      "memory usage: 25.0+ MB\n"
     ]
    }
   ],
   "source": [
    "bike_share.info()"
   ]
  },
  {
   "cell_type": "code",
   "execution_count": 65,
   "metadata": {
    "collapsed": true
   },
   "outputs": [],
   "source": [
    "weather.drop('instant', 1, inplace=True)"
   ]
  },
  {
   "cell_type": "code",
   "execution_count": 66,
   "metadata": {
    "collapsed": true
   },
   "outputs": [],
   "source": [
    "weather.drop('yr', 1, inplace=True)"
   ]
  },
  {
   "cell_type": "code",
   "execution_count": 67,
   "metadata": {
    "collapsed": true
   },
   "outputs": [],
   "source": [
    "weather.drop('casual', 1, inplace=True)"
   ]
  },
  {
   "cell_type": "code",
   "execution_count": 68,
   "metadata": {
    "collapsed": true
   },
   "outputs": [],
   "source": [
    "weather.drop('registered', 1, inplace=True)"
   ]
  },
  {
   "cell_type": "code",
   "execution_count": 69,
   "metadata": {
    "collapsed": true
   },
   "outputs": [],
   "source": [
    "weather.drop('cnt', 1, inplace=True)"
   ]
  },
  {
   "cell_type": "code",
   "execution_count": 70,
   "metadata": {
    "collapsed": true
   },
   "outputs": [],
   "source": [
    "merged_data = pd.merge(bike_share, weather, how='left', left_on='start_date_short', right_on='dteday')"
   ]
  },
  {
   "cell_type": "code",
   "execution_count": 71,
   "metadata": {},
   "outputs": [
    {
     "data": {
      "text/html": [
       "<div>\n",
       "<style>\n",
       "    .dataframe thead tr:only-child th {\n",
       "        text-align: right;\n",
       "    }\n",
       "\n",
       "    .dataframe thead th {\n",
       "        text-align: left;\n",
       "    }\n",
       "\n",
       "    .dataframe tbody tr th {\n",
       "        vertical-align: top;\n",
       "    }\n",
       "</style>\n",
       "<table border=\"1\" class=\"dataframe\">\n",
       "  <thead>\n",
       "    <tr style=\"text-align: right;\">\n",
       "      <th></th>\n",
       "      <th>Duration</th>\n",
       "      <th>Start date</th>\n",
       "      <th>End date</th>\n",
       "      <th>Start Station</th>\n",
       "      <th>End Station</th>\n",
       "      <th>Type</th>\n",
       "      <th>start_date_short</th>\n",
       "      <th>end_date_short</th>\n",
       "      <th>time_diff</th>\n",
       "      <th>dteday</th>\n",
       "      <th>season</th>\n",
       "      <th>mnth</th>\n",
       "      <th>holiday</th>\n",
       "      <th>weekday</th>\n",
       "      <th>workingday</th>\n",
       "      <th>weathersit</th>\n",
       "      <th>temp</th>\n",
       "      <th>atemp</th>\n",
       "      <th>hum</th>\n",
       "      <th>windspeed</th>\n",
       "    </tr>\n",
       "  </thead>\n",
       "  <tbody>\n",
       "    <tr>\n",
       "      <th>0</th>\n",
       "      <td>0h 7m 55sec.</td>\n",
       "      <td>2012-01-01 00:04:00</td>\n",
       "      <td>2012-01-01 00:11:00</td>\n",
       "      <td>7th &amp; R St NW / Shaw Library</td>\n",
       "      <td>7th &amp; T St NW</td>\n",
       "      <td>Registered</td>\n",
       "      <td>2012-01-01</td>\n",
       "      <td>2012-01-01</td>\n",
       "      <td>7.917</td>\n",
       "      <td>2012-01-01</td>\n",
       "      <td>1</td>\n",
       "      <td>1</td>\n",
       "      <td>0</td>\n",
       "      <td>0</td>\n",
       "      <td>0</td>\n",
       "      <td>1</td>\n",
       "      <td>0.37</td>\n",
       "      <td>0.375621</td>\n",
       "      <td>0.6925</td>\n",
       "      <td>0.192167</td>\n",
       "    </tr>\n",
       "    <tr>\n",
       "      <th>1</th>\n",
       "      <td>0h 19m 22sec.</td>\n",
       "      <td>2012-01-01 00:10:00</td>\n",
       "      <td>2012-01-01 00:29:00</td>\n",
       "      <td>Georgia &amp; New Hampshire Ave NW</td>\n",
       "      <td>16th &amp; Harvard St NW</td>\n",
       "      <td>Casual</td>\n",
       "      <td>2012-01-01</td>\n",
       "      <td>2012-01-01</td>\n",
       "      <td>19.367</td>\n",
       "      <td>2012-01-01</td>\n",
       "      <td>1</td>\n",
       "      <td>1</td>\n",
       "      <td>0</td>\n",
       "      <td>0</td>\n",
       "      <td>0</td>\n",
       "      <td>1</td>\n",
       "      <td>0.37</td>\n",
       "      <td>0.375621</td>\n",
       "      <td>0.6925</td>\n",
       "      <td>0.192167</td>\n",
       "    </tr>\n",
       "    <tr>\n",
       "      <th>2</th>\n",
       "      <td>0h 19m 5sec.</td>\n",
       "      <td>2012-01-01 00:10:00</td>\n",
       "      <td>2012-01-01 00:29:00</td>\n",
       "      <td>Georgia &amp; New Hampshire Ave NW</td>\n",
       "      <td>16th &amp; Harvard St NW</td>\n",
       "      <td>Registered</td>\n",
       "      <td>2012-01-01</td>\n",
       "      <td>2012-01-01</td>\n",
       "      <td>19.083</td>\n",
       "      <td>2012-01-01</td>\n",
       "      <td>1</td>\n",
       "      <td>1</td>\n",
       "      <td>0</td>\n",
       "      <td>0</td>\n",
       "      <td>0</td>\n",
       "      <td>1</td>\n",
       "      <td>0.37</td>\n",
       "      <td>0.375621</td>\n",
       "      <td>0.6925</td>\n",
       "      <td>0.192167</td>\n",
       "    </tr>\n",
       "    <tr>\n",
       "      <th>3</th>\n",
       "      <td>0h 8m 5sec.</td>\n",
       "      <td>2012-01-01 00:15:00</td>\n",
       "      <td>2012-01-01 00:23:00</td>\n",
       "      <td>14th &amp; V St NW</td>\n",
       "      <td>Park Rd &amp; Holmead Pl NW</td>\n",
       "      <td>Registered</td>\n",
       "      <td>2012-01-01</td>\n",
       "      <td>2012-01-01</td>\n",
       "      <td>8.083</td>\n",
       "      <td>2012-01-01</td>\n",
       "      <td>1</td>\n",
       "      <td>1</td>\n",
       "      <td>0</td>\n",
       "      <td>0</td>\n",
       "      <td>0</td>\n",
       "      <td>1</td>\n",
       "      <td>0.37</td>\n",
       "      <td>0.375621</td>\n",
       "      <td>0.6925</td>\n",
       "      <td>0.192167</td>\n",
       "    </tr>\n",
       "    <tr>\n",
       "      <th>4</th>\n",
       "      <td>0h 7m 51sec.</td>\n",
       "      <td>2012-01-01 00:15:00</td>\n",
       "      <td>2012-01-01 00:23:00</td>\n",
       "      <td>11th &amp; Kenyon St NW</td>\n",
       "      <td>7th &amp; T St NW</td>\n",
       "      <td>Registered</td>\n",
       "      <td>2012-01-01</td>\n",
       "      <td>2012-01-01</td>\n",
       "      <td>7.850</td>\n",
       "      <td>2012-01-01</td>\n",
       "      <td>1</td>\n",
       "      <td>1</td>\n",
       "      <td>0</td>\n",
       "      <td>0</td>\n",
       "      <td>0</td>\n",
       "      <td>1</td>\n",
       "      <td>0.37</td>\n",
       "      <td>0.375621</td>\n",
       "      <td>0.6925</td>\n",
       "      <td>0.192167</td>\n",
       "    </tr>\n",
       "  </tbody>\n",
       "</table>\n",
       "</div>"
      ],
      "text/plain": [
       "        Duration          Start date            End date  \\\n",
       "0   0h 7m 55sec. 2012-01-01 00:04:00 2012-01-01 00:11:00   \n",
       "1  0h 19m 22sec. 2012-01-01 00:10:00 2012-01-01 00:29:00   \n",
       "2   0h 19m 5sec. 2012-01-01 00:10:00 2012-01-01 00:29:00   \n",
       "3    0h 8m 5sec. 2012-01-01 00:15:00 2012-01-01 00:23:00   \n",
       "4   0h 7m 51sec. 2012-01-01 00:15:00 2012-01-01 00:23:00   \n",
       "\n",
       "                    Start Station              End Station        Type  \\\n",
       "0    7th & R St NW / Shaw Library            7th & T St NW  Registered   \n",
       "1  Georgia & New Hampshire Ave NW     16th & Harvard St NW      Casual   \n",
       "2  Georgia & New Hampshire Ave NW     16th & Harvard St NW  Registered   \n",
       "3                  14th & V St NW  Park Rd & Holmead Pl NW  Registered   \n",
       "4             11th & Kenyon St NW            7th & T St NW  Registered   \n",
       "\n",
       "  start_date_short end_date_short  time_diff     dteday  season  mnth  \\\n",
       "0       2012-01-01     2012-01-01      7.917 2012-01-01       1     1   \n",
       "1       2012-01-01     2012-01-01     19.367 2012-01-01       1     1   \n",
       "2       2012-01-01     2012-01-01     19.083 2012-01-01       1     1   \n",
       "3       2012-01-01     2012-01-01      8.083 2012-01-01       1     1   \n",
       "4       2012-01-01     2012-01-01      7.850 2012-01-01       1     1   \n",
       "\n",
       "   holiday  weekday  workingday  weathersit  temp     atemp     hum  windspeed  \n",
       "0        0        0           0           1  0.37  0.375621  0.6925   0.192167  \n",
       "1        0        0           0           1  0.37  0.375621  0.6925   0.192167  \n",
       "2        0        0           0           1  0.37  0.375621  0.6925   0.192167  \n",
       "3        0        0           0           1  0.37  0.375621  0.6925   0.192167  \n",
       "4        0        0           0           1  0.37  0.375621  0.6925   0.192167  "
      ]
     },
     "execution_count": 71,
     "metadata": {},
     "output_type": "execute_result"
    }
   ],
   "source": [
    "merged_data.head()"
   ]
  },
  {
   "cell_type": "code",
   "execution_count": 72,
   "metadata": {},
   "outputs": [
    {
     "name": "stdout",
     "output_type": "stream",
     "text": [
      "<class 'pandas.core.frame.DataFrame'>\n",
      "Int64Index: 364223 entries, 0 to 364222\n",
      "Data columns (total 20 columns):\n",
      "Duration            364223 non-null object\n",
      "Start date          364223 non-null datetime64[ns]\n",
      "End date            364223 non-null datetime64[ns]\n",
      "Start Station       364223 non-null object\n",
      "End Station         364223 non-null object\n",
      "Type                364223 non-null object\n",
      "start_date_short    364223 non-null datetime64[ns]\n",
      "end_date_short      364223 non-null datetime64[ns]\n",
      "time_diff           364223 non-null float64\n",
      "dteday              364223 non-null datetime64[ns]\n",
      "season              364223 non-null int64\n",
      "mnth                364223 non-null int64\n",
      "holiday             364223 non-null int64\n",
      "weekday             364223 non-null int64\n",
      "workingday          364223 non-null int64\n",
      "weathersit          364223 non-null int64\n",
      "temp                364223 non-null float64\n",
      "atemp               364223 non-null float64\n",
      "hum                 364223 non-null float64\n",
      "windspeed           364223 non-null float64\n",
      "dtypes: datetime64[ns](5), float64(5), int64(6), object(4)\n",
      "memory usage: 58.4+ MB\n"
     ]
    }
   ],
   "source": [
    "merged_data.info()"
   ]
  },
  {
   "cell_type": "code",
   "execution_count": 73,
   "metadata": {},
   "outputs": [
    {
     "data": {
      "text/html": [
       "<div>\n",
       "<style>\n",
       "    .dataframe thead tr:only-child th {\n",
       "        text-align: right;\n",
       "    }\n",
       "\n",
       "    .dataframe thead th {\n",
       "        text-align: left;\n",
       "    }\n",
       "\n",
       "    .dataframe tbody tr th {\n",
       "        vertical-align: top;\n",
       "    }\n",
       "</style>\n",
       "<table border=\"1\" class=\"dataframe\">\n",
       "  <thead>\n",
       "    <tr style=\"text-align: right;\">\n",
       "      <th></th>\n",
       "      <th>Duration</th>\n",
       "      <th>Start date</th>\n",
       "      <th>End date</th>\n",
       "      <th>Start Station</th>\n",
       "      <th>End Station</th>\n",
       "      <th>Type</th>\n",
       "      <th>start_date_short</th>\n",
       "      <th>end_date_short</th>\n",
       "      <th>time_diff</th>\n",
       "      <th>dteday</th>\n",
       "      <th>season</th>\n",
       "      <th>mnth</th>\n",
       "      <th>holiday</th>\n",
       "      <th>weekday</th>\n",
       "      <th>workingday</th>\n",
       "      <th>weathersit</th>\n",
       "      <th>temp</th>\n",
       "      <th>atemp</th>\n",
       "      <th>hum</th>\n",
       "      <th>windspeed</th>\n",
       "    </tr>\n",
       "  </thead>\n",
       "  <tbody>\n",
       "    <tr>\n",
       "      <th>364218</th>\n",
       "      <td>0h 10m 34sec.</td>\n",
       "      <td>2012-03-31 23:53:00</td>\n",
       "      <td>2012-04-01 00:03:00</td>\n",
       "      <td>18th &amp; Bell St</td>\n",
       "      <td>23rd &amp; Crystal Dr</td>\n",
       "      <td>Casual</td>\n",
       "      <td>2012-03-31</td>\n",
       "      <td>2012-04-01</td>\n",
       "      <td>10.567</td>\n",
       "      <td>2012-03-31</td>\n",
       "      <td>2</td>\n",
       "      <td>3</td>\n",
       "      <td>0</td>\n",
       "      <td>6</td>\n",
       "      <td>0</td>\n",
       "      <td>2</td>\n",
       "      <td>0.424167</td>\n",
       "      <td>0.421708</td>\n",
       "      <td>0.738333</td>\n",
       "      <td>0.250617</td>\n",
       "    </tr>\n",
       "    <tr>\n",
       "      <th>364219</th>\n",
       "      <td>0h 10m 23sec.</td>\n",
       "      <td>2012-03-31 23:53:00</td>\n",
       "      <td>2012-04-01 00:04:00</td>\n",
       "      <td>18th &amp; Bell St</td>\n",
       "      <td>23rd &amp; Crystal Dr</td>\n",
       "      <td>Casual</td>\n",
       "      <td>2012-03-31</td>\n",
       "      <td>2012-04-01</td>\n",
       "      <td>10.383</td>\n",
       "      <td>2012-03-31</td>\n",
       "      <td>2</td>\n",
       "      <td>3</td>\n",
       "      <td>0</td>\n",
       "      <td>6</td>\n",
       "      <td>0</td>\n",
       "      <td>2</td>\n",
       "      <td>0.424167</td>\n",
       "      <td>0.421708</td>\n",
       "      <td>0.738333</td>\n",
       "      <td>0.250617</td>\n",
       "    </tr>\n",
       "    <tr>\n",
       "      <th>364220</th>\n",
       "      <td>0h 10m 58sec.</td>\n",
       "      <td>2012-03-31 23:54:00</td>\n",
       "      <td>2012-04-01 00:05:00</td>\n",
       "      <td>5th St &amp; K St NW</td>\n",
       "      <td>1st &amp; Rhode Island Ave NW</td>\n",
       "      <td>Registered</td>\n",
       "      <td>2012-03-31</td>\n",
       "      <td>2012-04-01</td>\n",
       "      <td>10.967</td>\n",
       "      <td>2012-03-31</td>\n",
       "      <td>2</td>\n",
       "      <td>3</td>\n",
       "      <td>0</td>\n",
       "      <td>6</td>\n",
       "      <td>0</td>\n",
       "      <td>2</td>\n",
       "      <td>0.424167</td>\n",
       "      <td>0.421708</td>\n",
       "      <td>0.738333</td>\n",
       "      <td>0.250617</td>\n",
       "    </tr>\n",
       "    <tr>\n",
       "      <th>364221</th>\n",
       "      <td>0h 3m 14sec.</td>\n",
       "      <td>2012-03-31 23:56:00</td>\n",
       "      <td>2012-03-31 23:59:00</td>\n",
       "      <td>3rd &amp; D St SE</td>\n",
       "      <td>1st &amp; K St SE</td>\n",
       "      <td>Registered</td>\n",
       "      <td>2012-03-31</td>\n",
       "      <td>2012-03-31</td>\n",
       "      <td>3.233</td>\n",
       "      <td>2012-03-31</td>\n",
       "      <td>2</td>\n",
       "      <td>3</td>\n",
       "      <td>0</td>\n",
       "      <td>6</td>\n",
       "      <td>0</td>\n",
       "      <td>2</td>\n",
       "      <td>0.424167</td>\n",
       "      <td>0.421708</td>\n",
       "      <td>0.738333</td>\n",
       "      <td>0.250617</td>\n",
       "    </tr>\n",
       "    <tr>\n",
       "      <th>364222</th>\n",
       "      <td>0h 2m 20sec.</td>\n",
       "      <td>2012-03-31 23:59:00</td>\n",
       "      <td>2012-04-01 00:01:00</td>\n",
       "      <td>23rd &amp; Crystal Dr</td>\n",
       "      <td>18th &amp; Bell St</td>\n",
       "      <td>Registered</td>\n",
       "      <td>2012-03-31</td>\n",
       "      <td>2012-04-01</td>\n",
       "      <td>2.333</td>\n",
       "      <td>2012-03-31</td>\n",
       "      <td>2</td>\n",
       "      <td>3</td>\n",
       "      <td>0</td>\n",
       "      <td>6</td>\n",
       "      <td>0</td>\n",
       "      <td>2</td>\n",
       "      <td>0.424167</td>\n",
       "      <td>0.421708</td>\n",
       "      <td>0.738333</td>\n",
       "      <td>0.250617</td>\n",
       "    </tr>\n",
       "  </tbody>\n",
       "</table>\n",
       "</div>"
      ],
      "text/plain": [
       "             Duration          Start date            End date  \\\n",
       "364218  0h 10m 34sec. 2012-03-31 23:53:00 2012-04-01 00:03:00   \n",
       "364219  0h 10m 23sec. 2012-03-31 23:53:00 2012-04-01 00:04:00   \n",
       "364220  0h 10m 58sec. 2012-03-31 23:54:00 2012-04-01 00:05:00   \n",
       "364221   0h 3m 14sec. 2012-03-31 23:56:00 2012-03-31 23:59:00   \n",
       "364222   0h 2m 20sec. 2012-03-31 23:59:00 2012-04-01 00:01:00   \n",
       "\n",
       "            Start Station                End Station        Type  \\\n",
       "364218     18th & Bell St          23rd & Crystal Dr      Casual   \n",
       "364219     18th & Bell St          23rd & Crystal Dr      Casual   \n",
       "364220   5th St & K St NW  1st & Rhode Island Ave NW  Registered   \n",
       "364221      3rd & D St SE              1st & K St SE  Registered   \n",
       "364222  23rd & Crystal Dr             18th & Bell St  Registered   \n",
       "\n",
       "       start_date_short end_date_short  time_diff     dteday  season  mnth  \\\n",
       "364218       2012-03-31     2012-04-01     10.567 2012-03-31       2     3   \n",
       "364219       2012-03-31     2012-04-01     10.383 2012-03-31       2     3   \n",
       "364220       2012-03-31     2012-04-01     10.967 2012-03-31       2     3   \n",
       "364221       2012-03-31     2012-03-31      3.233 2012-03-31       2     3   \n",
       "364222       2012-03-31     2012-04-01      2.333 2012-03-31       2     3   \n",
       "\n",
       "        holiday  weekday  workingday  weathersit      temp     atemp  \\\n",
       "364218        0        6           0           2  0.424167  0.421708   \n",
       "364219        0        6           0           2  0.424167  0.421708   \n",
       "364220        0        6           0           2  0.424167  0.421708   \n",
       "364221        0        6           0           2  0.424167  0.421708   \n",
       "364222        0        6           0           2  0.424167  0.421708   \n",
       "\n",
       "             hum  windspeed  \n",
       "364218  0.738333   0.250617  \n",
       "364219  0.738333   0.250617  \n",
       "364220  0.738333   0.250617  \n",
       "364221  0.738333   0.250617  \n",
       "364222  0.738333   0.250617  "
      ]
     },
     "execution_count": 73,
     "metadata": {},
     "output_type": "execute_result"
    }
   ],
   "source": [
    "merged_data.tail()"
   ]
  },
  {
   "cell_type": "code",
   "execution_count": 74,
   "metadata": {
    "collapsed": true
   },
   "outputs": [],
   "source": [
    "merged_data.drop('dteday', 1, inplace=True)"
   ]
  },
  {
   "cell_type": "code",
   "execution_count": 75,
   "metadata": {},
   "outputs": [
    {
     "data": {
      "text/html": [
       "<div>\n",
       "<style>\n",
       "    .dataframe thead tr:only-child th {\n",
       "        text-align: right;\n",
       "    }\n",
       "\n",
       "    .dataframe thead th {\n",
       "        text-align: left;\n",
       "    }\n",
       "\n",
       "    .dataframe tbody tr th {\n",
       "        vertical-align: top;\n",
       "    }\n",
       "</style>\n",
       "<table border=\"1\" class=\"dataframe\">\n",
       "  <thead>\n",
       "    <tr style=\"text-align: right;\">\n",
       "      <th></th>\n",
       "      <th>Duration</th>\n",
       "      <th>Start date</th>\n",
       "      <th>End date</th>\n",
       "      <th>Start Station</th>\n",
       "      <th>End Station</th>\n",
       "      <th>Type</th>\n",
       "      <th>start_date_short</th>\n",
       "      <th>end_date_short</th>\n",
       "      <th>time_diff</th>\n",
       "      <th>season</th>\n",
       "      <th>mnth</th>\n",
       "      <th>holiday</th>\n",
       "      <th>weekday</th>\n",
       "      <th>workingday</th>\n",
       "      <th>weathersit</th>\n",
       "      <th>temp</th>\n",
       "      <th>atemp</th>\n",
       "      <th>hum</th>\n",
       "      <th>windspeed</th>\n",
       "    </tr>\n",
       "  </thead>\n",
       "  <tbody>\n",
       "  </tbody>\n",
       "</table>\n",
       "</div>"
      ],
      "text/plain": [
       "Empty DataFrame\n",
       "Columns: [Duration, Start date, End date, Start Station, End Station, Type, start_date_short, end_date_short, time_diff, season, mnth, holiday, weekday, workingday, weathersit, temp, atemp, hum, windspeed]\n",
       "Index: []"
      ]
     },
     "execution_count": 75,
     "metadata": {},
     "output_type": "execute_result"
    }
   ],
   "source": [
    "merged_data[merged_data['End Station'].isnull()]"
   ]
  },
  {
   "cell_type": "code",
   "execution_count": 76,
   "metadata": {
    "collapsed": true
   },
   "outputs": [],
   "source": [
    "merged_data.dropna(inplace=True)"
   ]
  },
  {
   "cell_type": "code",
   "execution_count": 77,
   "metadata": {
    "scrolled": false
   },
   "outputs": [
    {
     "name": "stdout",
     "output_type": "stream",
     "text": [
      "<class 'pandas.core.frame.DataFrame'>\n",
      "Int64Index: 364223 entries, 0 to 364222\n",
      "Data columns (total 19 columns):\n",
      "Duration            364223 non-null object\n",
      "Start date          364223 non-null datetime64[ns]\n",
      "End date            364223 non-null datetime64[ns]\n",
      "Start Station       364223 non-null object\n",
      "End Station         364223 non-null object\n",
      "Type                364223 non-null object\n",
      "start_date_short    364223 non-null datetime64[ns]\n",
      "end_date_short      364223 non-null datetime64[ns]\n",
      "time_diff           364223 non-null float64\n",
      "season              364223 non-null int64\n",
      "mnth                364223 non-null int64\n",
      "holiday             364223 non-null int64\n",
      "weekday             364223 non-null int64\n",
      "workingday          364223 non-null int64\n",
      "weathersit          364223 non-null int64\n",
      "temp                364223 non-null float64\n",
      "atemp               364223 non-null float64\n",
      "hum                 364223 non-null float64\n",
      "windspeed           364223 non-null float64\n",
      "dtypes: datetime64[ns](4), float64(5), int64(6), object(4)\n",
      "memory usage: 55.6+ MB\n"
     ]
    }
   ],
   "source": [
    "merged_data.info()"
   ]
  },
  {
   "cell_type": "code",
   "execution_count": 78,
   "metadata": {},
   "outputs": [
    {
     "data": {
      "text/html": [
       "<div>\n",
       "<style>\n",
       "    .dataframe thead tr:only-child th {\n",
       "        text-align: right;\n",
       "    }\n",
       "\n",
       "    .dataframe thead th {\n",
       "        text-align: left;\n",
       "    }\n",
       "\n",
       "    .dataframe tbody tr th {\n",
       "        vertical-align: top;\n",
       "    }\n",
       "</style>\n",
       "<table border=\"1\" class=\"dataframe\">\n",
       "  <thead>\n",
       "    <tr style=\"text-align: right;\">\n",
       "      <th></th>\n",
       "      <th>Duration</th>\n",
       "      <th>Start date</th>\n",
       "      <th>End date</th>\n",
       "      <th>Start Station</th>\n",
       "      <th>End Station</th>\n",
       "      <th>Type</th>\n",
       "      <th>start_date_short</th>\n",
       "      <th>end_date_short</th>\n",
       "      <th>time_diff</th>\n",
       "      <th>season</th>\n",
       "      <th>mnth</th>\n",
       "      <th>holiday</th>\n",
       "      <th>weekday</th>\n",
       "      <th>workingday</th>\n",
       "      <th>weathersit</th>\n",
       "      <th>temp</th>\n",
       "      <th>atemp</th>\n",
       "      <th>hum</th>\n",
       "      <th>windspeed</th>\n",
       "    </tr>\n",
       "  </thead>\n",
       "  <tbody>\n",
       "  </tbody>\n",
       "</table>\n",
       "</div>"
      ],
      "text/plain": [
       "Empty DataFrame\n",
       "Columns: [Duration, Start date, End date, Start Station, End Station, Type, start_date_short, end_date_short, time_diff, season, mnth, holiday, weekday, workingday, weathersit, temp, atemp, hum, windspeed]\n",
       "Index: []"
      ]
     },
     "execution_count": 78,
     "metadata": {},
     "output_type": "execute_result"
    }
   ],
   "source": [
    "merged_data[merged_data['End Station'].isnull()]"
   ]
  },
  {
   "cell_type": "code",
   "execution_count": 79,
   "metadata": {
    "collapsed": true
   },
   "outputs": [],
   "source": [
    "merged_data.rename(columns={'End Station': 'End station', 'Start Station': 'Start station', 'Type':'Member Type'}, inplace=True)"
   ]
  },
  {
   "cell_type": "code",
   "execution_count": 80,
   "metadata": {},
   "outputs": [
    {
     "data": {
      "text/plain": [
       "Index(['Duration', 'Start date', 'End date', 'Start station', 'End station',\n",
       "       'Member Type', 'start_date_short', 'end_date_short', 'time_diff',\n",
       "       'season', 'mnth', 'holiday', 'weekday', 'workingday', 'weathersit',\n",
       "       'temp', 'atemp', 'hum', 'windspeed'],\n",
       "      dtype='object')"
      ]
     },
     "execution_count": 80,
     "metadata": {},
     "output_type": "execute_result"
    }
   ],
   "source": [
    "merged_data.columns"
   ]
  },
  {
   "cell_type": "code",
   "execution_count": 81,
   "metadata": {},
   "outputs": [
    {
     "data": {
      "text/html": [
       "<div>\n",
       "<style>\n",
       "    .dataframe thead tr:only-child th {\n",
       "        text-align: right;\n",
       "    }\n",
       "\n",
       "    .dataframe thead th {\n",
       "        text-align: left;\n",
       "    }\n",
       "\n",
       "    .dataframe tbody tr th {\n",
       "        vertical-align: top;\n",
       "    }\n",
       "</style>\n",
       "<table border=\"1\" class=\"dataframe\">\n",
       "  <thead>\n",
       "    <tr style=\"text-align: right;\">\n",
       "      <th></th>\n",
       "      <th>time_diff</th>\n",
       "      <th>season</th>\n",
       "      <th>mnth</th>\n",
       "      <th>holiday</th>\n",
       "      <th>weekday</th>\n",
       "      <th>workingday</th>\n",
       "      <th>weathersit</th>\n",
       "      <th>temp</th>\n",
       "      <th>atemp</th>\n",
       "      <th>hum</th>\n",
       "      <th>windspeed</th>\n",
       "    </tr>\n",
       "  </thead>\n",
       "  <tbody>\n",
       "    <tr>\n",
       "      <th>count</th>\n",
       "      <td>364223.000000</td>\n",
       "      <td>364223.000000</td>\n",
       "      <td>364223.000000</td>\n",
       "      <td>364223.000000</td>\n",
       "      <td>364223.000000</td>\n",
       "      <td>364223.000000</td>\n",
       "      <td>364223.000000</td>\n",
       "      <td>364223.000000</td>\n",
       "      <td>364223.000000</td>\n",
       "      <td>364223.000000</td>\n",
       "      <td>364223.000000</td>\n",
       "    </tr>\n",
       "    <tr>\n",
       "      <th>mean</th>\n",
       "      <td>15.757259</td>\n",
       "      <td>1.175527</td>\n",
       "      <td>2.186875</td>\n",
       "      <td>0.020240</td>\n",
       "      <td>3.113859</td>\n",
       "      <td>0.724468</td>\n",
       "      <td>1.357484</td>\n",
       "      <td>0.380294</td>\n",
       "      <td>0.374925</td>\n",
       "      <td>0.593953</td>\n",
       "      <td>0.205817</td>\n",
       "    </tr>\n",
       "    <tr>\n",
       "      <th>std</th>\n",
       "      <td>36.638125</td>\n",
       "      <td>0.380418</td>\n",
       "      <td>0.826041</td>\n",
       "      <td>0.140822</td>\n",
       "      <td>1.931668</td>\n",
       "      <td>0.446782</td>\n",
       "      <td>0.491523</td>\n",
       "      <td>0.114233</td>\n",
       "      <td>0.108212</td>\n",
       "      <td>0.149362</td>\n",
       "      <td>0.084383</td>\n",
       "    </tr>\n",
       "    <tr>\n",
       "      <th>min</th>\n",
       "      <td>0.000000</td>\n",
       "      <td>1.000000</td>\n",
       "      <td>1.000000</td>\n",
       "      <td>0.000000</td>\n",
       "      <td>0.000000</td>\n",
       "      <td>0.000000</td>\n",
       "      <td>1.000000</td>\n",
       "      <td>0.107500</td>\n",
       "      <td>0.101658</td>\n",
       "      <td>0.290000</td>\n",
       "      <td>0.073396</td>\n",
       "    </tr>\n",
       "    <tr>\n",
       "      <th>25%</th>\n",
       "      <td>6.150000</td>\n",
       "      <td>1.000000</td>\n",
       "      <td>1.000000</td>\n",
       "      <td>0.000000</td>\n",
       "      <td>2.000000</td>\n",
       "      <td>0.000000</td>\n",
       "      <td>1.000000</td>\n",
       "      <td>0.287500</td>\n",
       "      <td>0.293558</td>\n",
       "      <td>0.481250</td>\n",
       "      <td>0.141179</td>\n",
       "    </tr>\n",
       "    <tr>\n",
       "      <th>50%</th>\n",
       "      <td>9.983000</td>\n",
       "      <td>1.000000</td>\n",
       "      <td>2.000000</td>\n",
       "      <td>0.000000</td>\n",
       "      <td>3.000000</td>\n",
       "      <td>1.000000</td>\n",
       "      <td>1.000000</td>\n",
       "      <td>0.366667</td>\n",
       "      <td>0.361104</td>\n",
       "      <td>0.562083</td>\n",
       "      <td>0.190929</td>\n",
       "    </tr>\n",
       "    <tr>\n",
       "      <th>75%</th>\n",
       "      <td>16.350000</td>\n",
       "      <td>1.000000</td>\n",
       "      <td>3.000000</td>\n",
       "      <td>0.000000</td>\n",
       "      <td>5.000000</td>\n",
       "      <td>1.000000</td>\n",
       "      <td>2.000000</td>\n",
       "      <td>0.472500</td>\n",
       "      <td>0.464000</td>\n",
       "      <td>0.728750</td>\n",
       "      <td>0.236950</td>\n",
       "    </tr>\n",
       "    <tr>\n",
       "      <th>max</th>\n",
       "      <td>4143.900000</td>\n",
       "      <td>2.000000</td>\n",
       "      <td>3.000000</td>\n",
       "      <td>1.000000</td>\n",
       "      <td>6.000000</td>\n",
       "      <td>1.000000</td>\n",
       "      <td>3.000000</td>\n",
       "      <td>0.601667</td>\n",
       "      <td>0.570067</td>\n",
       "      <td>0.911250</td>\n",
       "      <td>0.441563</td>\n",
       "    </tr>\n",
       "  </tbody>\n",
       "</table>\n",
       "</div>"
      ],
      "text/plain": [
       "           time_diff         season           mnth        holiday  \\\n",
       "count  364223.000000  364223.000000  364223.000000  364223.000000   \n",
       "mean       15.757259       1.175527       2.186875       0.020240   \n",
       "std        36.638125       0.380418       0.826041       0.140822   \n",
       "min         0.000000       1.000000       1.000000       0.000000   \n",
       "25%         6.150000       1.000000       1.000000       0.000000   \n",
       "50%         9.983000       1.000000       2.000000       0.000000   \n",
       "75%        16.350000       1.000000       3.000000       0.000000   \n",
       "max      4143.900000       2.000000       3.000000       1.000000   \n",
       "\n",
       "             weekday     workingday     weathersit           temp  \\\n",
       "count  364223.000000  364223.000000  364223.000000  364223.000000   \n",
       "mean        3.113859       0.724468       1.357484       0.380294   \n",
       "std         1.931668       0.446782       0.491523       0.114233   \n",
       "min         0.000000       0.000000       1.000000       0.107500   \n",
       "25%         2.000000       0.000000       1.000000       0.287500   \n",
       "50%         3.000000       1.000000       1.000000       0.366667   \n",
       "75%         5.000000       1.000000       2.000000       0.472500   \n",
       "max         6.000000       1.000000       3.000000       0.601667   \n",
       "\n",
       "               atemp            hum      windspeed  \n",
       "count  364223.000000  364223.000000  364223.000000  \n",
       "mean        0.374925       0.593953       0.205817  \n",
       "std         0.108212       0.149362       0.084383  \n",
       "min         0.101658       0.290000       0.073396  \n",
       "25%         0.293558       0.481250       0.141179  \n",
       "50%         0.361104       0.562083       0.190929  \n",
       "75%         0.464000       0.728750       0.236950  \n",
       "max         0.570067       0.911250       0.441563  "
      ]
     },
     "execution_count": 81,
     "metadata": {},
     "output_type": "execute_result"
    }
   ],
   "source": [
    "merged_data.describe()"
   ]
  },
  {
   "cell_type": "code",
   "execution_count": 82,
   "metadata": {},
   "outputs": [
    {
     "data": {
      "image/png": "[encoded data removed]",
      "text/plain": [
       "<matplotlib.figure.Figure at 0x116c31278>"
      ]
     },
     "metadata": {},
     "output_type": "display_data"
    }
   ],
   "source": [
    "fig, ax = plt.subplots()\n",
    "ax.hist(merged_data['time_diff'], bins=1000)\n",
    "plt.show()"
   ]
  },
  {
   "cell_type": "code",
   "execution_count": 83,
   "metadata": {},
   "outputs": [
    {
     "data": {
      "image/png": "[encoded data removed]",
      "text/plain": [
       "<matplotlib.figure.Figure at 0x1185d48d0>"
      ]
     },
     "metadata": {},
     "output_type": "display_data"
    }
   ],
   "source": [
    "fig, ax = plt.subplots()\n",
    "ax.boxplot(merged_data['time_diff'])\n",
    "ax.set_title('Boxplot of Time Difference')\n",
    "ax.set_ylabel('Duration in Minutes')\n",
    "ax.set_xlabel('Time Duration Variable')\n",
    "plt.show()"
   ]
  },
  {
   "cell_type": "code",
   "execution_count": 84,
   "metadata": {},
   "outputs": [
    {
     "name": "stdout",
     "output_type": "stream",
     "text": [
      "13\n"
     ]
    }
   ],
   "source": [
    "print(len(merged_data[merged_data['time_diff'] <= 0]))\n",
    "merged_data = merged_data[merged_data['time_diff'] > 0]"
   ]
  },
  {
   "cell_type": "code",
   "execution_count": 85,
   "metadata": {},
   "outputs": [
    {
     "data": {
      "image/png": "[encoded data removed]",
      "text/plain": [
       "<matplotlib.figure.Figure at 0x118823f98>"
      ]
     },
     "metadata": {},
     "output_type": "display_data"
    }
   ],
   "source": [
    "log = np.log(merged_data['time_diff'])\n",
    "\n",
    "plt.hist(log)\n",
    "plt.show()"
   ]
  },
  {
   "cell_type": "code",
   "execution_count": 86,
   "metadata": {
    "collapsed": true
   },
   "outputs": [],
   "source": [
    "merged_data.to_csv('bikeshare_2012_q1.csv')"
   ]
  },
  {
   "cell_type": "code",
   "execution_count": null,
   "metadata": {
    "collapsed": true
   },
   "outputs": [],
   "source": []
  }
 ],
 "metadata": {
  "kernelspec": {
   "display_name": "Python 3",
   "language": "python",
   "name": "python3"
  },
  "language_info": {
   "codemirror_mode": {
    "name": "ipython",
    "version": 3
   },
   "file_extension": ".py",
   "mimetype": "text/x-python",
   "name": "python",
   "nbconvert_exporter": "python",
   "pygments_lexer": "ipython3",
   "version": "3.6.1"
  }
 },
 "nbformat": 4,
 "nbformat_minor": 2
}
