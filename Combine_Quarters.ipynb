{
 "cells": [
  {
   "cell_type": "code",
   "execution_count": 12,
   "metadata": {
    "collapsed": true
   },
   "outputs": [],
   "source": [
    "import pandas as pd\n",
    "import numpy as np\n",
    "import matplotlib.pyplot as plt\n",
    "from datetime import datetime \n",
    "%matplotlib inline"
   ]
  },
  {
   "cell_type": "code",
   "execution_count": 13,
   "metadata": {
    "collapsed": true
   },
   "outputs": [],
   "source": [
    "bikeshare_q1 = pd.read_csv('bikeshare_q1.csv', \n",
    "                           parse_dates=['Start date', 'End date', 'start_date_short', 'end_date_short'])\n",
    "bikeshare_q2 = pd.read_csv('bikeshare_q2.csv', \n",
    "                           parse_dates=['Start date', 'End date', 'start_date_short', 'end_date_short'])\n",
    "bikeshare_q3 = pd.read_csv('bikeshare_q3.csv', \n",
    "                           parse_dates=['Start date', 'End date', 'start_date_short', 'end_date_short'])\n",
    "bikeshare_q4 = pd.read_csv('bikeshare_q4.csv', \n",
    "                           parse_dates=['Start date', 'End date', 'start_date_short', 'end_date_short'])\n",
    "bikeshare_q1_2012 = pd.read_csv('bikeshare_2012_q1.csv', \n",
    "                           parse_dates=['Start date', 'End date', 'start_date_short', 'end_date_short'])"
   ]
  },
  {
   "cell_type": "code",
   "execution_count": 14,
   "metadata": {},
   "outputs": [
    {
     "data": {
      "text/plain": [
       "Index(['Unnamed: 0', 'Start date', 'End date', 'Start station', 'End station',\n",
       "       'Member Type', 'start_date_short', 'end_date_short', 'time_diff',\n",
       "       'season', 'mnth', 'holiday', 'weekday', 'workingday', 'weathersit',\n",
       "       'temp', 'atemp', 'hum', 'windspeed'],\n",
       "      dtype='object')"
      ]
     },
     "execution_count": 14,
     "metadata": {},
     "output_type": "execute_result"
    }
   ],
   "source": [
    "bikeshare_q2.columns"
   ]
  },
  {
   "cell_type": "code",
   "execution_count": 15,
   "metadata": {},
   "outputs": [
    {
     "data": {
      "text/plain": [
       "Index(['Unnamed: 0', 'Start date', 'End date', 'Start station', 'End station',\n",
       "       'Member Type', 'start_date_short', 'end_date_short', 'time_diff',\n",
       "       'season', 'mnth', 'holiday', 'weekday', 'workingday', 'weathersit',\n",
       "       'temp', 'atemp', 'hum', 'windspeed'],\n",
       "      dtype='object')"
      ]
     },
     "execution_count": 15,
     "metadata": {},
     "output_type": "execute_result"
    }
   ],
   "source": [
    "bikeshare_q3.columns"
   ]
  },
  {
   "cell_type": "code",
   "execution_count": 16,
   "metadata": {},
   "outputs": [
    {
     "data": {
      "text/plain": [
       "Index(['Unnamed: 0', 'Start date', 'End date', 'Start station', 'End station',\n",
       "       'Member Type', 'start_date_short', 'end_date_short', 'time_diff',\n",
       "       'season', 'mnth', 'holiday', 'weekday', 'workingday', 'weathersit',\n",
       "       'temp', 'atemp', 'hum', 'windspeed'],\n",
       "      dtype='object')"
      ]
     },
     "execution_count": 16,
     "metadata": {},
     "output_type": "execute_result"
    }
   ],
   "source": [
    "bikeshare_q4.columns"
   ]
  },
  {
   "cell_type": "code",
   "execution_count": 17,
   "metadata": {},
   "outputs": [
    {
     "data": {
      "text/plain": [
       "Index(['Unnamed: 0', 'Start date', 'End date', 'Start station', 'End station',\n",
       "       'Member Type', 'start_date_short', 'end_date_short', 'time_diff',\n",
       "       'season', 'mnth', 'holiday', 'weekday', 'workingday', 'weathersit',\n",
       "       'temp', 'atemp', 'hum', 'windspeed'],\n",
       "      dtype='object')"
      ]
     },
     "execution_count": 17,
     "metadata": {},
     "output_type": "execute_result"
    }
   ],
   "source": [
    "bikeshare_q1_2012.columns"
   ]
  },
  {
   "cell_type": "code",
   "execution_count": 18,
   "metadata": {},
   "outputs": [],
   "source": [
    "bikeshare_full = pd.concat([bikeshare_q2, bikeshare_q3, bikeshare_q4, bikeshare_q1_2012], axis=0)"
   ]
  },
  {
   "cell_type": "code",
   "execution_count": 19,
   "metadata": {},
   "outputs": [
    {
     "name": "stdout",
     "output_type": "stream",
     "text": [
      "<class 'pandas.core.frame.DataFrame'>\n",
      "Int64Index: 1454696 entries, 0 to 364222\n",
      "Data columns (total 19 columns):\n",
      "Unnamed: 0          1454696 non-null int64\n",
      "Start date          1454696 non-null datetime64[ns]\n",
      "End date            1454696 non-null datetime64[ns]\n",
      "Start station       1454696 non-null object\n",
      "End station         1454696 non-null object\n",
      "Member Type         1454696 non-null object\n",
      "start_date_short    1454696 non-null datetime64[ns]\n",
      "end_date_short      1454696 non-null datetime64[ns]\n",
      "time_diff           1454696 non-null float64\n",
      "season              1454696 non-null int64\n",
      "mnth                1454696 non-null int64\n",
      "holiday             1454696 non-null int64\n",
      "weekday             1454696 non-null int64\n",
      "workingday          1454696 non-null int64\n",
      "weathersit          1454696 non-null int64\n",
      "temp                1454696 non-null float64\n",
      "atemp               1454696 non-null float64\n",
      "hum                 1454696 non-null float64\n",
      "windspeed           1454696 non-null float64\n",
      "dtypes: datetime64[ns](4), float64(5), int64(7), object(3)\n",
      "memory usage: 222.0+ MB\n"
     ]
    }
   ],
   "source": [
    "bikeshare_full.info()"
   ]
  },
  {
   "cell_type": "code",
   "execution_count": 20,
   "metadata": {
    "collapsed": true
   },
   "outputs": [],
   "source": [
    "bikeshare_full.drop('Unnamed: 0', 1, inplace=True)"
   ]
  },
  {
   "cell_type": "code",
   "execution_count": 21,
   "metadata": {
    "collapsed": true
   },
   "outputs": [],
   "source": [
    "bikeshare_full.to_csv('bikeshare_full.csv')"
   ]
  },
  {
   "cell_type": "code",
   "execution_count": 22,
   "metadata": {},
   "outputs": [
    {
     "data": {
      "text/html": [
       "<div>\n",
       "<style>\n",
       "    .dataframe thead tr:only-child th {\n",
       "        text-align: right;\n",
       "    }\n",
       "\n",
       "    .dataframe thead th {\n",
       "        text-align: left;\n",
       "    }\n",
       "\n",
       "    .dataframe tbody tr th {\n",
       "        vertical-align: top;\n",
       "    }\n",
       "</style>\n",
       "<table border=\"1\" class=\"dataframe\">\n",
       "  <thead>\n",
       "    <tr style=\"text-align: right;\">\n",
       "      <th></th>\n",
       "      <th>Start date</th>\n",
       "      <th>End date</th>\n",
       "      <th>Start station</th>\n",
       "      <th>End station</th>\n",
       "      <th>Member Type</th>\n",
       "      <th>start_date_short</th>\n",
       "      <th>end_date_short</th>\n",
       "      <th>time_diff</th>\n",
       "      <th>season</th>\n",
       "      <th>mnth</th>\n",
       "      <th>holiday</th>\n",
       "      <th>weekday</th>\n",
       "      <th>workingday</th>\n",
       "      <th>weathersit</th>\n",
       "      <th>temp</th>\n",
       "      <th>atemp</th>\n",
       "      <th>hum</th>\n",
       "      <th>windspeed</th>\n",
       "    </tr>\n",
       "  </thead>\n",
       "  <tbody>\n",
       "    <tr>\n",
       "      <th>168741</th>\n",
       "      <td>2011-11-06 01:59:00</td>\n",
       "      <td>2011-11-06 01:03:00</td>\n",
       "      <td>20th St &amp; Florida Ave NW (31110)</td>\n",
       "      <td>Massachusetts Ave &amp; Dupont Circle NW (31200)</td>\n",
       "      <td>Registered</td>\n",
       "      <td>2011-11-06</td>\n",
       "      <td>2011-11-06</td>\n",
       "      <td>-56.0</td>\n",
       "      <td>4</td>\n",
       "      <td>11</td>\n",
       "      <td>0</td>\n",
       "      <td>0</td>\n",
       "      <td>0</td>\n",
       "      <td>1</td>\n",
       "      <td>0.348333</td>\n",
       "      <td>0.362358</td>\n",
       "      <td>0.734583</td>\n",
       "      <td>0.092054</td>\n",
       "    </tr>\n",
       "    <tr>\n",
       "      <th>168742</th>\n",
       "      <td>2011-11-06 01:59:00</td>\n",
       "      <td>2011-11-06 01:03:00</td>\n",
       "      <td>20th St &amp; Florida Ave NW (31110)</td>\n",
       "      <td>Massachusetts Ave &amp; Dupont Circle NW (31200)</td>\n",
       "      <td>Registered</td>\n",
       "      <td>2011-11-06</td>\n",
       "      <td>2011-11-06</td>\n",
       "      <td>-56.0</td>\n",
       "      <td>4</td>\n",
       "      <td>11</td>\n",
       "      <td>0</td>\n",
       "      <td>0</td>\n",
       "      <td>0</td>\n",
       "      <td>1</td>\n",
       "      <td>0.348333</td>\n",
       "      <td>0.362358</td>\n",
       "      <td>0.734583</td>\n",
       "      <td>0.092054</td>\n",
       "    </tr>\n",
       "    <tr>\n",
       "      <th>168743</th>\n",
       "      <td>2011-11-06 01:58:00</td>\n",
       "      <td>2011-11-06 01:24:00</td>\n",
       "      <td>1st &amp; M St NE (31603)</td>\n",
       "      <td>16th &amp; Harvard St NW (31103)</td>\n",
       "      <td>Registered</td>\n",
       "      <td>2011-11-06</td>\n",
       "      <td>2011-11-06</td>\n",
       "      <td>-34.0</td>\n",
       "      <td>4</td>\n",
       "      <td>11</td>\n",
       "      <td>0</td>\n",
       "      <td>0</td>\n",
       "      <td>0</td>\n",
       "      <td>1</td>\n",
       "      <td>0.348333</td>\n",
       "      <td>0.362358</td>\n",
       "      <td>0.734583</td>\n",
       "      <td>0.092054</td>\n",
       "    </tr>\n",
       "    <tr>\n",
       "      <th>168744</th>\n",
       "      <td>2011-11-06 01:56:00</td>\n",
       "      <td>2011-11-06 01:02:00</td>\n",
       "      <td>14th &amp; Rhode Island Ave NW (31203)</td>\n",
       "      <td>14th &amp; V St NW (31101)</td>\n",
       "      <td>Registered</td>\n",
       "      <td>2011-11-06</td>\n",
       "      <td>2011-11-06</td>\n",
       "      <td>-54.0</td>\n",
       "      <td>4</td>\n",
       "      <td>11</td>\n",
       "      <td>0</td>\n",
       "      <td>0</td>\n",
       "      <td>0</td>\n",
       "      <td>1</td>\n",
       "      <td>0.348333</td>\n",
       "      <td>0.362358</td>\n",
       "      <td>0.734583</td>\n",
       "      <td>0.092054</td>\n",
       "    </tr>\n",
       "    <tr>\n",
       "      <th>168745</th>\n",
       "      <td>2011-11-06 01:56:00</td>\n",
       "      <td>2011-11-06 01:06:00</td>\n",
       "      <td>18th &amp; M St NW (31221)</td>\n",
       "      <td>14th &amp; V St NW (31101)</td>\n",
       "      <td>Registered</td>\n",
       "      <td>2011-11-06</td>\n",
       "      <td>2011-11-06</td>\n",
       "      <td>-50.0</td>\n",
       "      <td>4</td>\n",
       "      <td>11</td>\n",
       "      <td>0</td>\n",
       "      <td>0</td>\n",
       "      <td>0</td>\n",
       "      <td>1</td>\n",
       "      <td>0.348333</td>\n",
       "      <td>0.362358</td>\n",
       "      <td>0.734583</td>\n",
       "      <td>0.092054</td>\n",
       "    </tr>\n",
       "    <tr>\n",
       "      <th>168746</th>\n",
       "      <td>2011-11-06 01:56:00</td>\n",
       "      <td>2011-11-06 01:06:00</td>\n",
       "      <td>18th &amp; M St NW (31221)</td>\n",
       "      <td>14th &amp; V St NW (31101)</td>\n",
       "      <td>Registered</td>\n",
       "      <td>2011-11-06</td>\n",
       "      <td>2011-11-06</td>\n",
       "      <td>-50.0</td>\n",
       "      <td>4</td>\n",
       "      <td>11</td>\n",
       "      <td>0</td>\n",
       "      <td>0</td>\n",
       "      <td>0</td>\n",
       "      <td>1</td>\n",
       "      <td>0.348333</td>\n",
       "      <td>0.362358</td>\n",
       "      <td>0.734583</td>\n",
       "      <td>0.092054</td>\n",
       "    </tr>\n",
       "    <tr>\n",
       "      <th>168747</th>\n",
       "      <td>2011-11-06 01:54:00</td>\n",
       "      <td>2011-11-06 01:07:00</td>\n",
       "      <td>4th St &amp; Massachusetts Ave NW (31604)</td>\n",
       "      <td>10th &amp; U St NW (31111)</td>\n",
       "      <td>Registered</td>\n",
       "      <td>2011-11-06</td>\n",
       "      <td>2011-11-06</td>\n",
       "      <td>-47.0</td>\n",
       "      <td>4</td>\n",
       "      <td>11</td>\n",
       "      <td>0</td>\n",
       "      <td>0</td>\n",
       "      <td>0</td>\n",
       "      <td>1</td>\n",
       "      <td>0.348333</td>\n",
       "      <td>0.362358</td>\n",
       "      <td>0.734583</td>\n",
       "      <td>0.092054</td>\n",
       "    </tr>\n",
       "    <tr>\n",
       "      <th>168748</th>\n",
       "      <td>2011-11-06 01:51:00</td>\n",
       "      <td>2011-11-06 01:07:00</td>\n",
       "      <td>Columbus Circle / Union Station (31623)</td>\n",
       "      <td>10th &amp; U St NW (31111)</td>\n",
       "      <td>Registered</td>\n",
       "      <td>2011-11-06</td>\n",
       "      <td>2011-11-06</td>\n",
       "      <td>-44.0</td>\n",
       "      <td>4</td>\n",
       "      <td>11</td>\n",
       "      <td>0</td>\n",
       "      <td>0</td>\n",
       "      <td>0</td>\n",
       "      <td>1</td>\n",
       "      <td>0.348333</td>\n",
       "      <td>0.362358</td>\n",
       "      <td>0.734583</td>\n",
       "      <td>0.092054</td>\n",
       "    </tr>\n",
       "    <tr>\n",
       "      <th>168758</th>\n",
       "      <td>2011-11-06 01:43:00</td>\n",
       "      <td>2011-11-06 01:05:00</td>\n",
       "      <td>Massachusetts Ave &amp; Dupont Circle NW (31200)</td>\n",
       "      <td>Calvert St &amp; Woodley Pl NW (31106)</td>\n",
       "      <td>Registered</td>\n",
       "      <td>2011-11-06</td>\n",
       "      <td>2011-11-06</td>\n",
       "      <td>-38.0</td>\n",
       "      <td>4</td>\n",
       "      <td>11</td>\n",
       "      <td>0</td>\n",
       "      <td>0</td>\n",
       "      <td>0</td>\n",
       "      <td>1</td>\n",
       "      <td>0.348333</td>\n",
       "      <td>0.362358</td>\n",
       "      <td>0.734583</td>\n",
       "      <td>0.092054</td>\n",
       "    </tr>\n",
       "  </tbody>\n",
       "</table>\n",
       "</div>"
      ],
      "text/plain": [
       "                Start date            End date  \\\n",
       "168741 2011-11-06 01:59:00 2011-11-06 01:03:00   \n",
       "168742 2011-11-06 01:59:00 2011-11-06 01:03:00   \n",
       "168743 2011-11-06 01:58:00 2011-11-06 01:24:00   \n",
       "168744 2011-11-06 01:56:00 2011-11-06 01:02:00   \n",
       "168745 2011-11-06 01:56:00 2011-11-06 01:06:00   \n",
       "168746 2011-11-06 01:56:00 2011-11-06 01:06:00   \n",
       "168747 2011-11-06 01:54:00 2011-11-06 01:07:00   \n",
       "168748 2011-11-06 01:51:00 2011-11-06 01:07:00   \n",
       "168758 2011-11-06 01:43:00 2011-11-06 01:05:00   \n",
       "\n",
       "                                       Start station  \\\n",
       "168741              20th St & Florida Ave NW (31110)   \n",
       "168742              20th St & Florida Ave NW (31110)   \n",
       "168743                         1st & M St NE (31603)   \n",
       "168744            14th & Rhode Island Ave NW (31203)   \n",
       "168745                        18th & M St NW (31221)   \n",
       "168746                        18th & M St NW (31221)   \n",
       "168747         4th St & Massachusetts Ave NW (31604)   \n",
       "168748       Columbus Circle / Union Station (31623)   \n",
       "168758  Massachusetts Ave & Dupont Circle NW (31200)   \n",
       "\n",
       "                                         End station Member Type  \\\n",
       "168741  Massachusetts Ave & Dupont Circle NW (31200)  Registered   \n",
       "168742  Massachusetts Ave & Dupont Circle NW (31200)  Registered   \n",
       "168743                  16th & Harvard St NW (31103)  Registered   \n",
       "168744                        14th & V St NW (31101)  Registered   \n",
       "168745                        14th & V St NW (31101)  Registered   \n",
       "168746                        14th & V St NW (31101)  Registered   \n",
       "168747                        10th & U St NW (31111)  Registered   \n",
       "168748                        10th & U St NW (31111)  Registered   \n",
       "168758            Calvert St & Woodley Pl NW (31106)  Registered   \n",
       "\n",
       "       start_date_short end_date_short  time_diff  season  mnth  holiday  \\\n",
       "168741       2011-11-06     2011-11-06      -56.0       4    11        0   \n",
       "168742       2011-11-06     2011-11-06      -56.0       4    11        0   \n",
       "168743       2011-11-06     2011-11-06      -34.0       4    11        0   \n",
       "168744       2011-11-06     2011-11-06      -54.0       4    11        0   \n",
       "168745       2011-11-06     2011-11-06      -50.0       4    11        0   \n",
       "168746       2011-11-06     2011-11-06      -50.0       4    11        0   \n",
       "168747       2011-11-06     2011-11-06      -47.0       4    11        0   \n",
       "168748       2011-11-06     2011-11-06      -44.0       4    11        0   \n",
       "168758       2011-11-06     2011-11-06      -38.0       4    11        0   \n",
       "\n",
       "        weekday  workingday  weathersit      temp     atemp       hum  \\\n",
       "168741        0           0           1  0.348333  0.362358  0.734583   \n",
       "168742        0           0           1  0.348333  0.362358  0.734583   \n",
       "168743        0           0           1  0.348333  0.362358  0.734583   \n",
       "168744        0           0           1  0.348333  0.362358  0.734583   \n",
       "168745        0           0           1  0.348333  0.362358  0.734583   \n",
       "168746        0           0           1  0.348333  0.362358  0.734583   \n",
       "168747        0           0           1  0.348333  0.362358  0.734583   \n",
       "168748        0           0           1  0.348333  0.362358  0.734583   \n",
       "168758        0           0           1  0.348333  0.362358  0.734583   \n",
       "\n",
       "        windspeed  \n",
       "168741   0.092054  \n",
       "168742   0.092054  \n",
       "168743   0.092054  \n",
       "168744   0.092054  \n",
       "168745   0.092054  \n",
       "168746   0.092054  \n",
       "168747   0.092054  \n",
       "168748   0.092054  \n",
       "168758   0.092054  "
      ]
     },
     "execution_count": 22,
     "metadata": {},
     "output_type": "execute_result"
    }
   ],
   "source": [
    "bikeshare_full[bikeshare_full['time_diff'] < 0]"
   ]
  },
  {
   "cell_type": "code",
   "execution_count": 23,
   "metadata": {
    "collapsed": true
   },
   "outputs": [],
   "source": [
    "bikeshare_full.loc[bikeshare_full.time_diff < 0, 'time_diff'] = bikeshare_full.loc[bikeshare_full.time_diff < 0, 'time_diff'] + 60"
   ]
  },
  {
   "cell_type": "code",
   "execution_count": 24,
   "metadata": {},
   "outputs": [
    {
     "data": {
      "text/html": [
       "<div>\n",
       "<style>\n",
       "    .dataframe thead tr:only-child th {\n",
       "        text-align: right;\n",
       "    }\n",
       "\n",
       "    .dataframe thead th {\n",
       "        text-align: left;\n",
       "    }\n",
       "\n",
       "    .dataframe tbody tr th {\n",
       "        vertical-align: top;\n",
       "    }\n",
       "</style>\n",
       "<table border=\"1\" class=\"dataframe\">\n",
       "  <thead>\n",
       "    <tr style=\"text-align: right;\">\n",
       "      <th></th>\n",
       "      <th>Start date</th>\n",
       "      <th>End date</th>\n",
       "      <th>Start station</th>\n",
       "      <th>End station</th>\n",
       "      <th>Member Type</th>\n",
       "      <th>start_date_short</th>\n",
       "      <th>end_date_short</th>\n",
       "      <th>time_diff</th>\n",
       "      <th>season</th>\n",
       "      <th>mnth</th>\n",
       "      <th>holiday</th>\n",
       "      <th>weekday</th>\n",
       "      <th>workingday</th>\n",
       "      <th>weathersit</th>\n",
       "      <th>temp</th>\n",
       "      <th>atemp</th>\n",
       "      <th>hum</th>\n",
       "      <th>windspeed</th>\n",
       "    </tr>\n",
       "  </thead>\n",
       "  <tbody>\n",
       "  </tbody>\n",
       "</table>\n",
       "</div>"
      ],
      "text/plain": [
       "Empty DataFrame\n",
       "Columns: [Start date, End date, Start station, End station, Member Type, start_date_short, end_date_short, time_diff, season, mnth, holiday, weekday, workingday, weathersit, temp, atemp, hum, windspeed]\n",
       "Index: []"
      ]
     },
     "execution_count": 24,
     "metadata": {},
     "output_type": "execute_result"
    }
   ],
   "source": [
    "bikeshare_full.loc[bikeshare_full.time_diff < 0]"
   ]
  },
  {
   "cell_type": "code",
   "execution_count": 25,
   "metadata": {},
   "outputs": [
    {
     "data": {
      "text/plain": [
       "(1405380, 18)"
      ]
     },
     "execution_count": 25,
     "metadata": {},
     "output_type": "execute_result"
    }
   ],
   "source": [
    "bikeshare_smaller = bikeshare_full.copy()\n",
    "bikeshare_smaller = bikeshare_smaller[bikeshare_smaller['time_diff'] < 80]\n",
    "bikeshare_smaller.shape"
   ]
  },
  {
   "cell_type": "code",
   "execution_count": 26,
   "metadata": {},
   "outputs": [
    {
     "data": {
      "image/png": "[encoded data removed]",
      "text/plain": [
       "<matplotlib.figure.Figure at 0x118e886d8>"
      ]
     },
     "metadata": {},
     "output_type": "display_data"
    }
   ],
   "source": [
    "fig, ax = plt.subplots()\n",
    "ax.boxplot(bikeshare_smaller['time_diff'])\n",
    "ax.set_title('Boxplot of Time Difference')\n",
    "ax.set_ylabel('Duration in Minutes')\n",
    "ax.set_xlabel('Time Duration Variable')\n",
    "plt.show()"
   ]
  },
  {
   "cell_type": "code",
   "execution_count": 27,
   "metadata": {},
   "outputs": [
    {
     "data": {
      "image/png": "[encoded data removed]",
      "text/plain": [
       "<matplotlib.figure.Figure at 0x118e3cd68>"
      ]
     },
     "metadata": {},
     "output_type": "display_data"
    }
   ],
   "source": [
    "bikeshare_smaller['time_diff'].plot.hist(bins=15)\n",
    "plt.show()"
   ]
  },
  {
   "cell_type": "code",
   "execution_count": 28,
   "metadata": {},
   "outputs": [
    {
     "data": {
      "text/plain": [
       "count    1.405380e+06\n",
       "mean     1.389885e+01\n",
       "std      1.155961e+01\n",
       "min      0.000000e+00\n",
       "25%      7.000000e+00\n",
       "50%      1.100000e+01\n",
       "75%      1.700000e+01\n",
       "max      7.900000e+01\n",
       "Name: time_diff, dtype: float64"
      ]
     },
     "execution_count": 28,
     "metadata": {},
     "output_type": "execute_result"
    }
   ],
   "source": [
    "bikeshare_smaller['time_diff'].describe()"
   ]
  },
  {
   "cell_type": "code",
   "execution_count": 29,
   "metadata": {
    "collapsed": true
   },
   "outputs": [],
   "source": [
    "bikeshare_smaller.to_csv('bikeshare_reduced.csv')"
   ]
  },
  {
   "cell_type": "code",
   "execution_count": null,
   "metadata": {
    "collapsed": true
   },
   "outputs": [],
   "source": []
  }
 ],
 "metadata": {
  "kernelspec": {
   "display_name": "Python 3",
   "language": "python",
   "name": "python3"
  },
  "language_info": {
   "codemirror_mode": {
    "name": "ipython",
    "version": 3
   },
   "file_extension": ".py",
   "mimetype": "text/x-python",
   "name": "python",
   "nbconvert_exporter": "python",
   "pygments_lexer": "ipython3",
   "version": "3.6.1"
  }
 },
 "nbformat": 4,
 "nbformat_minor": 2
}
